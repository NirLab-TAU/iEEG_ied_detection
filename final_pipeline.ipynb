{
 "cells": [
  {
   "cell_type": "code",
   "execution_count": 1,
   "id": "initial_id",
   "metadata": {
    "collapsed": true,
    "ExecuteTime": {
     "end_time": "2024-09-16T15:45:23.075694Z",
     "start_time": "2024-09-16T15:45:11.313618Z"
    }
   },
   "outputs": [],
   "source": [
    "import mne\n",
    "import pandas as pd\n",
    "import numpy as np\n",
    "import antropy as ant\n",
    "import scipy.stats as sp_stats\n",
    "from sklearn.model_selection import StratifiedKFold\n",
    "from lightgbm import LGBMClassifier\n",
    "import shap\n",
    "import matplotlib.pyplot as plt\n",
    "from mne_features.feature_extraction import extract_features\n",
    "from sklearn.metrics import accuracy_score, precision_score, recall_score, f1_score, roc_auc_score, average_precision_score\n",
    "from imblearn.under_sampling import RandomUnderSampler\n",
    "from sklearn.metrics import confusion_matrix\n",
    "from mne_bids import BIDSPath, read_raw_bids"
   ]
  },
  {
   "cell_type": "markdown",
   "source": [
    "# Utils functions"
   ],
   "metadata": {
    "collapsed": false
   },
   "id": "2c56c97868879100"
  },
  {
   "cell_type": "code",
   "outputs": [],
   "source": [
    "# create a dictionary with the onsets of each channel\n",
    "def onset_per_chan(subj):\n",
    "    # load the list of channels for each annotation\n",
    "    tags_df = pd.read_csv(rf'.\\ieeg_ieds_bids\\derivatives\\sub-{subj}_task-sleep_events_interpretation.tsv', sep='\\t')\n",
    "    result_dict = {}\n",
    "\n",
    "    # Iterate over the DataFrame rows\n",
    "    for index, row in tags_df.iterrows():\n",
    "        onset = row['time_in_sec']\n",
    "        chans = row['chans']\n",
    "        for string in chans.split(' '):\n",
    "            if string not in result_dict:\n",
    "                result_dict[string] = []\n",
    "            result_dict[string].append(onset)\n",
    "    \n",
    "    # in case of extra space\n",
    "    result_dict.pop('', None)\n",
    "    return result_dict\n",
    "\n",
    "# extract features from the epochs of a single channel\n",
    "def extract_epochs_features(epochs, subj, sr):\n",
    "    mobility, complexity = ant.hjorth_params(epochs, axis=1)\n",
    "    feat = {\n",
    "        'subj': np.full(len(epochs), subj),\n",
    "        'epoch_id': np.arange(len(epochs)),\n",
    "        'kurtosis': sp_stats.kurtosis(epochs, axis=1),\n",
    "        'hjorth_mobility': mobility,\n",
    "        'hjorth_complexity': complexity,\n",
    "        'ptp_amp': np.ptp(epochs, axis=1),\n",
    "        'samp_entropy': np.apply_along_axis(ant.sample_entropy, axis=1, arr=epochs)\n",
    "    }\n",
    "\n",
    "    # Extract teager-kaiser energy\n",
    "    X_new = extract_features(np.array(epochs)[:, np.newaxis, :], sr, ['teager_kaiser_energy'], return_as_df=True)\n",
    "    # rename columns\n",
    "    X_new.columns = [name[0] + '_' + name[1].replace('ch0_', '') for name in X_new.columns]\n",
    "\n",
    "    # Convert to dataframe\n",
    "    feat = pd.DataFrame(feat)\n",
    "    feat = pd.concat([feat, X_new], axis=1)\n",
    "\n",
    "    return feat\n",
    "\n",
    "# get features and labels of a single subject (all channels)\n",
    "def get_subj_data(subj):\n",
    "    window_size = 250  # ms\n",
    "    raw = read_raw_bids(BIDSPath(subject=subj, task='sleep', root='ieeg_ieds_bids', datatype='ieeg'))\n",
    "    chans_onsets = onset_per_chan(subj)\n",
    "\n",
    "    y = []\n",
    "    x = pd.DataFrame()\n",
    "    # iterate over all channels that have annotations\n",
    "    for chan in chans_onsets.keys():\n",
    "        epochs = []\n",
    "        chan_raw = raw.copy().pick([chan]).get_data().flatten()\n",
    "        # normalize chan\n",
    "        chan_norm = (chan_raw - chan_raw.mean()) / chan_raw.std()\n",
    "        # run on all 250ms epochs excluding the last 1s\n",
    "        for i in range(0, len(chan_norm) - 4 * window_size, window_size):\n",
    "            epochs.append(chan_norm[i: i + window_size])\n",
    "\n",
    "        # mark the spikes in the right index\n",
    "        curr_y = [0] * len(epochs)\n",
    "        for onset in chans_onsets[chan]:\n",
    "            curr_y[int(onset // 0.25)] = 1\n",
    "\n",
    "        # add epoch-level features\n",
    "        curr_feat = extract_epochs_features(epochs, subj, raw.info['sfreq'])\n",
    "        # add channel-level features\n",
    "        chan_feat = {\n",
    "            'chan_name': chan,\n",
    "            'chan_ptp': np.ptp(chan_norm),\n",
    "            'chan_kurt': sp_stats.kurtosis(chan_norm),\n",
    "        }\n",
    "        \n",
    "        for feat in chan_feat.keys():\n",
    "            curr_feat[feat] = chan_feat[feat]\n",
    "\n",
    "        # save the epochs as column for debugging/visualization\n",
    "        curr_feat['epoch'] = epochs\n",
    "        x = pd.concat([x, curr_feat], axis=0)\n",
    "        y.extend(curr_y)\n",
    "\n",
    "    return x, y"
   ],
   "metadata": {
    "collapsed": false,
    "ExecuteTime": {
     "end_time": "2024-09-16T15:46:28.087416Z",
     "start_time": "2024-09-16T15:46:28.077007Z"
    }
   },
   "id": "9a607c8465d0118e",
   "execution_count": 5
  },
  {
   "cell_type": "markdown",
   "source": [
    "# Generate the data"
   ],
   "metadata": {
    "collapsed": false
   },
   "id": "f4f4d06bd87d7abe"
  },
  {
   "cell_type": "code",
   "outputs": [],
   "source": [
    "# create a dataframe with all the subjects and features\n",
    "x_all = pd.DataFrame()\n",
    "y_all = []\n",
    "for subj in range(1, 26):\n",
    "    print(subj)\n",
    "    id = str(subj) if subj >= 10 else f'0{subj}'\n",
    "    x_subj, y_subj = get_subj_data(id)\n",
    "    x_all = pd.concat([x_all, x_subj], axis=0)\n",
    "    y_all.extend(y_subj)"
   ],
   "metadata": {
    "collapsed": false
   },
   "id": "f75ecddc09ad1425",
   "execution_count": null
  },
  {
   "cell_type": "markdown",
   "source": [
    "# Under-sampling"
   ],
   "metadata": {
    "collapsed": false
   },
   "id": "516081cd35c95d7f"
  },
  {
   "cell_type": "code",
   "outputs": [
    {
     "data": {
      "text/plain": "0.5"
     },
     "execution_count": 7,
     "metadata": {},
     "output_type": "execute_result"
    }
   ],
   "source": [
    "# undersample the majority class\n",
    "rus = RandomUnderSampler(random_state=42)\n",
    "x, y = rus.fit_resample(x_all, np.array(y_all))\n",
    "sum(y)/len(y)"
   ],
   "metadata": {
    "collapsed": false,
    "ExecuteTime": {
     "end_time": "2024-09-16T15:50:37.187196Z",
     "start_time": "2024-09-16T15:50:37.113552Z"
    }
   },
   "id": "4f9ef134a3a994d",
   "execution_count": 7
  },
  {
   "cell_type": "markdown",
   "source": [
    "# Feature selection"
   ],
   "metadata": {
    "collapsed": false
   },
   "id": "4f72ff9779d51992"
  },
  {
   "cell_type": "code",
   "outputs": [
    {
     "data": {
      "text/plain": "     teager_kaiser_energy_1_std  teager_kaiser_energy_2_std   chan_ptp  \\\n317                    0.046473                    0.002074   9.506129   \n520                    0.008159                    0.001426  11.643328   \n141                    0.037613                    0.012259  16.015686   \n642                    0.160384                    0.029426  17.534921   \n512                    0.161967                    0.117311  16.459017   \n..                          ...                         ...        ...   \n568                    2.544303                    0.135031  10.012795   \n568                    2.330141                    0.097333  10.376840   \n568                    1.794002                    0.077188  10.930553   \n568                    2.326437                    0.129270  11.319015   \n957                   13.539255                    2.924719  11.025445   \n\n      ptp_amp  hjorth_mobility  hjorth_complexity  teager_kaiser_energy_3_std  \\\n317  1.303298         0.035457          36.174244                    0.000541   \n520  1.166101         0.030020          47.056575                    0.000422   \n141  1.140554         0.044486          19.511480                    0.003310   \n642  1.507632         0.096391          11.784086                    0.006521   \n512  1.181131         0.180640           6.298630                    0.028623   \n..        ...              ...                ...                         ...   \n568  4.163106         0.058332          17.150753                    0.023949   \n568  3.756648         0.060348          16.153232                    0.029416   \n568  3.347359         0.064313          14.937929                    0.030545   \n568  4.135271         0.063745          14.995195                    0.044203   \n957  4.783580         0.144263           5.782681                    0.151936   \n\n     chan_kurt  teager_kaiser_energy_5_mean  teager_kaiser_energy_0_std  \\\n317   2.662450                     0.000058                    6.778727   \n520   5.101268                     0.000050                    3.145458   \n141   1.013492                     0.000044                    3.367326   \n642  17.032723                     0.000250                   10.657995   \n512   2.549787                     0.000612                   13.076160   \n..         ...                          ...                         ...   \n568   1.496141                     0.000932                   47.460212   \n568   1.647136                     0.000735                   35.732287   \n568   1.941368                     0.000661                   25.141064   \n568   1.751833                     0.000761                   32.022184   \n957   2.568576                     0.002240                   31.715189   \n\n     kurtosis  teager_kaiser_energy_1_mean  teager_kaiser_energy_5_std  \\\n317 -1.373971                     0.031326                    0.000088   \n520 -1.299559                     0.010812                    0.000088   \n141 -1.620443                     0.016406                    0.000068   \n642 -0.287102                     0.066533                    0.000300   \n512 -0.776554                     0.146398                    0.000904   \n..        ...                          ...                         ...   \n568  0.168940                     1.167731                    0.001444   \n568  0.201231                     0.936178                    0.000894   \n568  0.197371                     0.775097                    0.001071   \n568 -0.006241                     0.991502                    0.001279   \n957  0.860268                     5.345353                    0.003532   \n\n     samp_entropy  \n317      0.073556  \n520      0.046327  \n141      0.091095  \n642      0.263168  \n512      0.672213  \n..            ...  \n568      0.103925  \n568      0.112370  \n568      0.127919  \n568      0.137286  \n957      0.350280  \n\n[7412 rows x 14 columns]",
      "text/html": "<div>\n<style scoped>\n    .dataframe tbody tr th:only-of-type {\n        vertical-align: middle;\n    }\n\n    .dataframe tbody tr th {\n        vertical-align: top;\n    }\n\n    .dataframe thead th {\n        text-align: right;\n    }\n</style>\n<table border=\"1\" class=\"dataframe\">\n  <thead>\n    <tr style=\"text-align: right;\">\n      <th></th>\n      <th>teager_kaiser_energy_1_std</th>\n      <th>teager_kaiser_energy_2_std</th>\n      <th>chan_ptp</th>\n      <th>ptp_amp</th>\n      <th>hjorth_mobility</th>\n      <th>hjorth_complexity</th>\n      <th>teager_kaiser_energy_3_std</th>\n      <th>chan_kurt</th>\n      <th>teager_kaiser_energy_5_mean</th>\n      <th>teager_kaiser_energy_0_std</th>\n      <th>kurtosis</th>\n      <th>teager_kaiser_energy_1_mean</th>\n      <th>teager_kaiser_energy_5_std</th>\n      <th>samp_entropy</th>\n    </tr>\n  </thead>\n  <tbody>\n    <tr>\n      <th>317</th>\n      <td>0.046473</td>\n      <td>0.002074</td>\n      <td>9.506129</td>\n      <td>1.303298</td>\n      <td>0.035457</td>\n      <td>36.174244</td>\n      <td>0.000541</td>\n      <td>2.662450</td>\n      <td>0.000058</td>\n      <td>6.778727</td>\n      <td>-1.373971</td>\n      <td>0.031326</td>\n      <td>0.000088</td>\n      <td>0.073556</td>\n    </tr>\n    <tr>\n      <th>520</th>\n      <td>0.008159</td>\n      <td>0.001426</td>\n      <td>11.643328</td>\n      <td>1.166101</td>\n      <td>0.030020</td>\n      <td>47.056575</td>\n      <td>0.000422</td>\n      <td>5.101268</td>\n      <td>0.000050</td>\n      <td>3.145458</td>\n      <td>-1.299559</td>\n      <td>0.010812</td>\n      <td>0.000088</td>\n      <td>0.046327</td>\n    </tr>\n    <tr>\n      <th>141</th>\n      <td>0.037613</td>\n      <td>0.012259</td>\n      <td>16.015686</td>\n      <td>1.140554</td>\n      <td>0.044486</td>\n      <td>19.511480</td>\n      <td>0.003310</td>\n      <td>1.013492</td>\n      <td>0.000044</td>\n      <td>3.367326</td>\n      <td>-1.620443</td>\n      <td>0.016406</td>\n      <td>0.000068</td>\n      <td>0.091095</td>\n    </tr>\n    <tr>\n      <th>642</th>\n      <td>0.160384</td>\n      <td>0.029426</td>\n      <td>17.534921</td>\n      <td>1.507632</td>\n      <td>0.096391</td>\n      <td>11.784086</td>\n      <td>0.006521</td>\n      <td>17.032723</td>\n      <td>0.000250</td>\n      <td>10.657995</td>\n      <td>-0.287102</td>\n      <td>0.066533</td>\n      <td>0.000300</td>\n      <td>0.263168</td>\n    </tr>\n    <tr>\n      <th>512</th>\n      <td>0.161967</td>\n      <td>0.117311</td>\n      <td>16.459017</td>\n      <td>1.181131</td>\n      <td>0.180640</td>\n      <td>6.298630</td>\n      <td>0.028623</td>\n      <td>2.549787</td>\n      <td>0.000612</td>\n      <td>13.076160</td>\n      <td>-0.776554</td>\n      <td>0.146398</td>\n      <td>0.000904</td>\n      <td>0.672213</td>\n    </tr>\n    <tr>\n      <th>...</th>\n      <td>...</td>\n      <td>...</td>\n      <td>...</td>\n      <td>...</td>\n      <td>...</td>\n      <td>...</td>\n      <td>...</td>\n      <td>...</td>\n      <td>...</td>\n      <td>...</td>\n      <td>...</td>\n      <td>...</td>\n      <td>...</td>\n      <td>...</td>\n    </tr>\n    <tr>\n      <th>568</th>\n      <td>2.544303</td>\n      <td>0.135031</td>\n      <td>10.012795</td>\n      <td>4.163106</td>\n      <td>0.058332</td>\n      <td>17.150753</td>\n      <td>0.023949</td>\n      <td>1.496141</td>\n      <td>0.000932</td>\n      <td>47.460212</td>\n      <td>0.168940</td>\n      <td>1.167731</td>\n      <td>0.001444</td>\n      <td>0.103925</td>\n    </tr>\n    <tr>\n      <th>568</th>\n      <td>2.330141</td>\n      <td>0.097333</td>\n      <td>10.376840</td>\n      <td>3.756648</td>\n      <td>0.060348</td>\n      <td>16.153232</td>\n      <td>0.029416</td>\n      <td>1.647136</td>\n      <td>0.000735</td>\n      <td>35.732287</td>\n      <td>0.201231</td>\n      <td>0.936178</td>\n      <td>0.000894</td>\n      <td>0.112370</td>\n    </tr>\n    <tr>\n      <th>568</th>\n      <td>1.794002</td>\n      <td>0.077188</td>\n      <td>10.930553</td>\n      <td>3.347359</td>\n      <td>0.064313</td>\n      <td>14.937929</td>\n      <td>0.030545</td>\n      <td>1.941368</td>\n      <td>0.000661</td>\n      <td>25.141064</td>\n      <td>0.197371</td>\n      <td>0.775097</td>\n      <td>0.001071</td>\n      <td>0.127919</td>\n    </tr>\n    <tr>\n      <th>568</th>\n      <td>2.326437</td>\n      <td>0.129270</td>\n      <td>11.319015</td>\n      <td>4.135271</td>\n      <td>0.063745</td>\n      <td>14.995195</td>\n      <td>0.044203</td>\n      <td>1.751833</td>\n      <td>0.000761</td>\n      <td>32.022184</td>\n      <td>-0.006241</td>\n      <td>0.991502</td>\n      <td>0.001279</td>\n      <td>0.137286</td>\n    </tr>\n    <tr>\n      <th>957</th>\n      <td>13.539255</td>\n      <td>2.924719</td>\n      <td>11.025445</td>\n      <td>4.783580</td>\n      <td>0.144263</td>\n      <td>5.782681</td>\n      <td>0.151936</td>\n      <td>2.568576</td>\n      <td>0.002240</td>\n      <td>31.715189</td>\n      <td>0.860268</td>\n      <td>5.345353</td>\n      <td>0.003532</td>\n      <td>0.350280</td>\n    </tr>\n  </tbody>\n</table>\n<p>7412 rows × 14 columns</p>\n</div>"
     },
     "execution_count": 8,
     "metadata": {},
     "output_type": "execute_result"
    }
   ],
   "source": [
    "# choose the features to use\n",
    "meta_data = ['subj', 'epoch_id', 'chan_name', 'epoch']\n",
    "feat_to_choose = ['teager_kaiser_energy_1_std', 'teager_kaiser_energy_2_std', 'chan_ptp', 'ptp_amp', 'hjorth_mobility', 'hjorth_complexity', 'teager_kaiser_energy_3_std', 'chan_kurt', 'teager_kaiser_energy_5_mean', 'teager_kaiser_energy_0_std', 'kurtosis', 'teager_kaiser_energy_1_mean', 'teager_kaiser_energy_5_std', 'samp_entropy']\n",
    "# choose best features\n",
    "x_feat = x[feat_to_choose]\n",
    "x_feat"
   ],
   "metadata": {
    "collapsed": false,
    "ExecuteTime": {
     "end_time": "2024-09-16T15:50:37.204455Z",
     "start_time": "2024-09-16T15:50:37.188195Z"
    }
   },
   "id": "239e32c6ce7a10d0",
   "execution_count": 8
  },
  {
   "cell_type": "markdown",
   "source": [
    "# Model training and evaluation"
   ],
   "metadata": {
    "collapsed": false
   },
   "id": "411c9394c9a4aa79"
  },
  {
   "cell_type": "code",
   "outputs": [
    {
     "name": "stdout",
     "output_type": "stream",
     "text": [
      "[LightGBM] [Info] Number of positive: 2965, number of negative: 2964\n",
      "[LightGBM] [Info] Auto-choosing row-wise multi-threading, the overhead of testing was 0.000636 seconds.\n",
      "You can set `force_row_wise=true` to remove the overhead.\n",
      "And if memory is not enough, you can set `force_col_wise=true`.\n",
      "[LightGBM] [Info] Total Bins 3554\n",
      "[LightGBM] [Info] Number of data points in the train set: 5929, number of used features: 14\n",
      "[LightGBM] [Info] [binary:BoostFromScore]: pavg=0.500084 -> initscore=0.000337\n",
      "[LightGBM] [Info] Start training from score 0.000337\n",
      "[LightGBM] [Info] Number of positive: 2964, number of negative: 2965\n",
      "[LightGBM] [Info] Auto-choosing col-wise multi-threading, the overhead of testing was 0.000318 seconds.\n",
      "You can set `force_col_wise=true` to remove the overhead.\n",
      "[LightGBM] [Info] Total Bins 3550\n",
      "[LightGBM] [Info] Number of data points in the train set: 5929, number of used features: 14\n",
      "[LightGBM] [Info] [binary:BoostFromScore]: pavg=0.499916 -> initscore=-0.000337\n",
      "[LightGBM] [Info] Start training from score -0.000337\n",
      "[LightGBM] [Info] Number of positive: 2965, number of negative: 2965\n",
      "[LightGBM] [Info] Auto-choosing col-wise multi-threading, the overhead of testing was 0.000305 seconds.\n",
      "You can set `force_col_wise=true` to remove the overhead.\n",
      "[LightGBM] [Info] Total Bins 3551\n",
      "[LightGBM] [Info] Number of data points in the train set: 5930, number of used features: 14\n",
      "[LightGBM] [Info] [binary:BoostFromScore]: pavg=0.500000 -> initscore=0.000000\n",
      "[LightGBM] [Info] Number of positive: 2965, number of negative: 2965\n",
      "[LightGBM] [Info] Auto-choosing col-wise multi-threading, the overhead of testing was 0.000238 seconds.\n",
      "You can set `force_col_wise=true` to remove the overhead.\n",
      "[LightGBM] [Info] Total Bins 3547\n",
      "[LightGBM] [Info] Number of data points in the train set: 5930, number of used features: 14\n",
      "[LightGBM] [Info] [binary:BoostFromScore]: pavg=0.500000 -> initscore=0.000000\n",
      "[LightGBM] [Info] Number of positive: 2965, number of negative: 2965\n",
      "[LightGBM] [Info] Auto-choosing col-wise multi-threading, the overhead of testing was 0.000280 seconds.\n",
      "You can set `force_col_wise=true` to remove the overhead.\n",
      "[LightGBM] [Info] Total Bins 3553\n",
      "[LightGBM] [Info] Number of data points in the train set: 5930, number of used features: 14\n",
      "[LightGBM] [Info] [binary:BoostFromScore]: pavg=0.500000 -> initscore=0.000000\n"
     ]
    },
    {
     "data": {
      "text/plain": "      accuracy  precision  sensitivity  specificity        f1    ROCAUC  \\\n0     0.943358   0.944520     0.941970     0.944744  0.943243  0.943357   \n1     0.951450   0.944297     0.959569     0.943320  0.951872  0.951444   \n2     0.939271   0.936913     0.941970     0.936572  0.939435  0.939271   \n3     0.943320   0.942127     0.944669     0.941970  0.943396  0.943320   \n4     0.945344   0.953297     0.936572     0.954116  0.944860  0.945344   \nmean  0.944549   0.944231     0.944950     0.944144  0.944561  0.944547   \n\n         PRAUC  \n0     0.918705  \n1     0.926347  \n2     0.911559  \n3     0.917663  \n4     0.924545  \nmean  0.919764  ",
      "text/html": "<div>\n<style scoped>\n    .dataframe tbody tr th:only-of-type {\n        vertical-align: middle;\n    }\n\n    .dataframe tbody tr th {\n        vertical-align: top;\n    }\n\n    .dataframe thead th {\n        text-align: right;\n    }\n</style>\n<table border=\"1\" class=\"dataframe\">\n  <thead>\n    <tr style=\"text-align: right;\">\n      <th></th>\n      <th>accuracy</th>\n      <th>precision</th>\n      <th>sensitivity</th>\n      <th>specificity</th>\n      <th>f1</th>\n      <th>ROCAUC</th>\n      <th>PRAUC</th>\n    </tr>\n  </thead>\n  <tbody>\n    <tr>\n      <th>0</th>\n      <td>0.943358</td>\n      <td>0.944520</td>\n      <td>0.941970</td>\n      <td>0.944744</td>\n      <td>0.943243</td>\n      <td>0.943357</td>\n      <td>0.918705</td>\n    </tr>\n    <tr>\n      <th>1</th>\n      <td>0.951450</td>\n      <td>0.944297</td>\n      <td>0.959569</td>\n      <td>0.943320</td>\n      <td>0.951872</td>\n      <td>0.951444</td>\n      <td>0.926347</td>\n    </tr>\n    <tr>\n      <th>2</th>\n      <td>0.939271</td>\n      <td>0.936913</td>\n      <td>0.941970</td>\n      <td>0.936572</td>\n      <td>0.939435</td>\n      <td>0.939271</td>\n      <td>0.911559</td>\n    </tr>\n    <tr>\n      <th>3</th>\n      <td>0.943320</td>\n      <td>0.942127</td>\n      <td>0.944669</td>\n      <td>0.941970</td>\n      <td>0.943396</td>\n      <td>0.943320</td>\n      <td>0.917663</td>\n    </tr>\n    <tr>\n      <th>4</th>\n      <td>0.945344</td>\n      <td>0.953297</td>\n      <td>0.936572</td>\n      <td>0.954116</td>\n      <td>0.944860</td>\n      <td>0.945344</td>\n      <td>0.924545</td>\n    </tr>\n    <tr>\n      <th>mean</th>\n      <td>0.944549</td>\n      <td>0.944231</td>\n      <td>0.944950</td>\n      <td>0.944144</td>\n      <td>0.944561</td>\n      <td>0.944547</td>\n      <td>0.919764</td>\n    </tr>\n  </tbody>\n</table>\n</div>"
     },
     "execution_count": 9,
     "metadata": {},
     "output_type": "execute_result"
    }
   ],
   "source": [
    "# run k-fold cross validation\n",
    "metrics = {'accuracy': [], 'precision': [], 'sensitivity': [], 'specificity': [],'f1': [], 'ROCAUC': [], 'PRAUC': []}\n",
    "kf = StratifiedKFold(n_splits=5, shuffle=True, random_state=15)\n",
    "for train_index, test_index in kf.split(x_feat, y):\n",
    "    model = LGBMClassifier()\n",
    "    x_train_fold, x_test_fold = x_feat.iloc[train_index], x_feat.iloc[test_index]\n",
    "    y_train_fold, y_test_fold = y[train_index], y[test_index]\n",
    "    model.fit(x_train_fold, y_train_fold)\n",
    "    y_pred = model.predict(x_test_fold)\n",
    "    y_true = y_test_fold\n",
    "    # save scores in dict\n",
    "    metrics['accuracy'].append(accuracy_score(y_true, y_pred))\n",
    "    metrics['precision'].append(precision_score(y_true, y_pred))\n",
    "    metrics['sensitivity'].append(recall_score(y_true, y_pred))\n",
    "    metrics['f1'].append(f1_score(y_true, y_pred))\n",
    "    tn, fp, fn, tp = confusion_matrix(y_true, y_pred).ravel()\n",
    "    metrics['specificity'].append(tn / (tn + fp))\n",
    "    metrics['ROCAUC'].append(roc_auc_score(y_true, y_pred))\n",
    "    metrics['PRAUC'].append(average_precision_score(y_true, y_pred))\n",
    "\n",
    "# print results as df\n",
    "results = pd.DataFrame(metrics)\n",
    "results.loc['mean'] = results.mean()\n",
    "results"
   ],
   "metadata": {
    "collapsed": false,
    "ExecuteTime": {
     "end_time": "2024-09-16T15:50:38.084329Z",
     "start_time": "2024-09-16T15:50:37.205455Z"
    }
   },
   "id": "540cd3b4e15ac519",
   "execution_count": 9
  },
  {
   "cell_type": "code",
   "outputs": [
    {
     "name": "stderr",
     "output_type": "stream",
     "text": [
      "LightGBM binary classifier with TreeExplainer shap values output has changed to a list of ndarray\n"
     ]
    },
    {
     "data": {
      "text/plain": "<Figure size 800x710 with 1 Axes>",
      "image/png": "[encoded data removed]"
     },
     "metadata": {},
     "output_type": "display_data"
    }
   ],
   "source": [
    "# use shap to explain model predictions\n",
    "explainer = shap.TreeExplainer(model)\n",
    "shap_values = explainer.shap_values(x_test_fold)\n",
    "plt.grid(False)\n",
    "new_names = ['kaiser 1 std', 'kaiser 2 std', 'channel ptp', 'ptp amp', 'hjorth mobility', 'hjorth complexity', 'kaiser 3 std', 'channel kurt', 'kaiser 5 mean', 'kaiser 0 std', 'kurtosis', 'kaiser 1 mean', 'kaiser 5 std', 'entropy']\n",
    "shap.summary_plot(shap_values[1], x_test_fold, plot_type='bar', color='#b0acf7', feature_names=new_names)"
   ],
   "metadata": {
    "collapsed": false,
    "ExecuteTime": {
     "end_time": "2024-09-16T15:50:38.575601Z",
     "start_time": "2024-09-16T15:50:38.085328Z"
    }
   },
   "id": "1d53625e2c3a4529",
   "execution_count": 10
  },
  {
   "cell_type": "code",
   "outputs": [
    {
     "name": "stdout",
     "output_type": "stream",
     "text": [
      "Processing subject 1\n",
      "[LightGBM] [Info] Number of positive: 3551, number of negative: 3607\n",
      "[LightGBM] [Info] Auto-choosing col-wise multi-threading, the overhead of testing was 0.000270 seconds.\n",
      "You can set `force_col_wise=true` to remove the overhead.\n",
      "[LightGBM] [Info] Total Bins 3547\n",
      "[LightGBM] [Info] Number of data points in the train set: 7158, number of used features: 14\n",
      "[LightGBM] [Info] [binary:BoostFromScore]: pavg=0.496088 -> initscore=-0.015647\n",
      "[LightGBM] [Info] Start training from score -0.015647\n",
      "Processing subject 2\n",
      "[LightGBM] [Info] Number of positive: 3564, number of negative: 3640\n",
      "[LightGBM] [Info] Auto-choosing col-wise multi-threading, the overhead of testing was 0.000274 seconds.\n",
      "You can set `force_col_wise=true` to remove the overhead.\n",
      "[LightGBM] [Info] Total Bins 3548\n",
      "[LightGBM] [Info] Number of data points in the train set: 7204, number of used features: 14\n",
      "[LightGBM] [Info] [binary:BoostFromScore]: pavg=0.494725 -> initscore=-0.021100\n",
      "[LightGBM] [Info] Start training from score -0.021100\n",
      "Processing subject 3\n",
      "[LightGBM] [Info] Number of positive: 3679, number of negative: 3681\n",
      "[LightGBM] [Info] Auto-choosing col-wise multi-threading, the overhead of testing was 0.000272 seconds.\n",
      "You can set `force_col_wise=true` to remove the overhead.\n",
      "[LightGBM] [Info] Total Bins 3551\n",
      "[LightGBM] [Info] Number of data points in the train set: 7360, number of used features: 14\n",
      "[LightGBM] [Info] [binary:BoostFromScore]: pavg=0.499864 -> initscore=-0.000543\n",
      "[LightGBM] [Info] Start training from score -0.000543\n",
      "Processing subject 4\n",
      "[LightGBM] [Info] Number of positive: 3686, number of negative: 3674\n",
      "[LightGBM] [Info] Auto-choosing col-wise multi-threading, the overhead of testing was 0.000273 seconds.\n",
      "You can set `force_col_wise=true` to remove the overhead.\n",
      "[LightGBM] [Info] Total Bins 3551\n",
      "[LightGBM] [Info] Number of data points in the train set: 7360, number of used features: 14\n",
      "[LightGBM] [Info] [binary:BoostFromScore]: pavg=0.500815 -> initscore=0.003261\n",
      "[LightGBM] [Info] Start training from score 0.003261\n",
      "Processing subject 5\n",
      "[LightGBM] [Info] Number of positive: 3547, number of negative: 3655\n",
      "[LightGBM] [Info] Auto-choosing col-wise multi-threading, the overhead of testing was 0.000264 seconds.\n",
      "You can set `force_col_wise=true` to remove the overhead.\n",
      "[LightGBM] [Info] Total Bins 3548\n",
      "[LightGBM] [Info] Number of data points in the train set: 7202, number of used features: 14\n",
      "[LightGBM] [Info] [binary:BoostFromScore]: pavg=0.492502 -> initscore=-0.029994\n",
      "[LightGBM] [Info] Start training from score -0.029994\n",
      "Processing subject 6\n",
      "[LightGBM] [Info] Number of positive: 3543, number of negative: 3623\n",
      "[LightGBM] [Info] Auto-choosing col-wise multi-threading, the overhead of testing was 0.000264 seconds.\n",
      "You can set `force_col_wise=true` to remove the overhead.\n",
      "[LightGBM] [Info] Total Bins 3548\n",
      "[LightGBM] [Info] Number of data points in the train set: 7166, number of used features: 14\n",
      "[LightGBM] [Info] [binary:BoostFromScore]: pavg=0.494418 -> initscore=-0.022329\n",
      "[LightGBM] [Info] Start training from score -0.022329\n",
      "Processing subject 7\n",
      "[LightGBM] [Info] Number of positive: 3657, number of negative: 3693\n",
      "[LightGBM] [Info] Auto-choosing col-wise multi-threading, the overhead of testing was 0.000282 seconds.\n",
      "You can set `force_col_wise=true` to remove the overhead.\n",
      "[LightGBM] [Info] Total Bins 3551\n",
      "[LightGBM] [Info] Number of data points in the train set: 7350, number of used features: 14\n",
      "[LightGBM] [Info] [binary:BoostFromScore]: pavg=0.497551 -> initscore=-0.009796\n",
      "[LightGBM] [Info] Start training from score -0.009796\n",
      "Processing subject 8\n",
      "[LightGBM] [Info] Number of positive: 3603, number of negative: 3576\n",
      "[LightGBM] [Info] Auto-choosing col-wise multi-threading, the overhead of testing was 0.000260 seconds.\n",
      "You can set `force_col_wise=true` to remove the overhead.\n",
      "[LightGBM] [Info] Total Bins 3548\n",
      "[LightGBM] [Info] Number of data points in the train set: 7179, number of used features: 14\n",
      "[LightGBM] [Info] [binary:BoostFromScore]: pavg=0.501880 -> initscore=0.007522\n",
      "[LightGBM] [Info] Start training from score 0.007522\n",
      "Processing subject 9\n",
      "[LightGBM] [Info] Number of positive: 3641, number of negative: 3636\n",
      "[LightGBM] [Info] Auto-choosing col-wise multi-threading, the overhead of testing was 0.000394 seconds.\n",
      "You can set `force_col_wise=true` to remove the overhead.\n",
      "[LightGBM] [Info] Total Bins 3551\n",
      "[LightGBM] [Info] Number of data points in the train set: 7277, number of used features: 14\n",
      "[LightGBM] [Info] [binary:BoostFromScore]: pavg=0.500344 -> initscore=0.001374\n",
      "[LightGBM] [Info] Start training from score 0.001374\n",
      "Processing subject 10\n",
      "[LightGBM] [Info] Number of positive: 3638, number of negative: 3558\n",
      "[LightGBM] [Info] Auto-choosing col-wise multi-threading, the overhead of testing was 0.000285 seconds.\n",
      "You can set `force_col_wise=true` to remove the overhead.\n",
      "[LightGBM] [Info] Total Bins 3547\n",
      "[LightGBM] [Info] Number of data points in the train set: 7196, number of used features: 14\n",
      "[LightGBM] [Info] [binary:BoostFromScore]: pavg=0.505559 -> initscore=0.022235\n",
      "[LightGBM] [Info] Start training from score 0.022235\n",
      "Processing subject 11\n",
      "[LightGBM] [Info] Number of positive: 3562, number of negative: 3566\n",
      "[LightGBM] [Info] Auto-choosing col-wise multi-threading, the overhead of testing was 0.000293 seconds.\n",
      "You can set `force_col_wise=true` to remove the overhead.\n",
      "[LightGBM] [Info] Total Bins 3548\n",
      "[LightGBM] [Info] Number of data points in the train set: 7128, number of used features: 14\n",
      "[LightGBM] [Info] [binary:BoostFromScore]: pavg=0.499719 -> initscore=-0.001122\n",
      "[LightGBM] [Info] Start training from score -0.001122\n",
      "Processing subject 12\n",
      "[LightGBM] [Info] Number of positive: 3591, number of negative: 3478\n",
      "[LightGBM] [Info] Auto-choosing col-wise multi-threading, the overhead of testing was 0.000270 seconds.\n",
      "You can set `force_col_wise=true` to remove the overhead.\n",
      "[LightGBM] [Info] Total Bins 3548\n",
      "[LightGBM] [Info] Number of data points in the train set: 7069, number of used features: 14\n",
      "[LightGBM] [Info] [binary:BoostFromScore]: pavg=0.507993 -> initscore=0.031973\n",
      "[LightGBM] [Info] Start training from score 0.031973\n",
      "Processing subject 13\n",
      "[LightGBM] [Info] Number of positive: 3520, number of negative: 3602\n",
      "[LightGBM] [Info] Auto-choosing col-wise multi-threading, the overhead of testing was 0.000263 seconds.\n",
      "You can set `force_col_wise=true` to remove the overhead.\n",
      "[LightGBM] [Info] Total Bins 3548\n",
      "[LightGBM] [Info] Number of data points in the train set: 7122, number of used features: 14\n",
      "[LightGBM] [Info] [binary:BoostFromScore]: pavg=0.494243 -> initscore=-0.023028\n",
      "[LightGBM] [Info] Start training from score -0.023028\n",
      "Processing subject 14\n",
      "[LightGBM] [Info] Number of positive: 3579, number of negative: 3536\n",
      "[LightGBM] [Info] Auto-choosing col-wise multi-threading, the overhead of testing was 0.000286 seconds.\n",
      "You can set `force_col_wise=true` to remove the overhead.\n",
      "[LightGBM] [Info] Total Bins 3546\n",
      "[LightGBM] [Info] Number of data points in the train set: 7115, number of used features: 14\n",
      "[LightGBM] [Info] [binary:BoostFromScore]: pavg=0.503022 -> initscore=0.012087\n",
      "[LightGBM] [Info] Start training from score 0.012087\n",
      "Processing subject 15\n",
      "[LightGBM] [Info] Number of positive: 3453, number of negative: 3605\n",
      "[LightGBM] [Info] Auto-choosing col-wise multi-threading, the overhead of testing was 0.000295 seconds.\n",
      "You can set `force_col_wise=true` to remove the overhead.\n",
      "[LightGBM] [Info] Total Bins 3547\n",
      "[LightGBM] [Info] Number of data points in the train set: 7058, number of used features: 14\n",
      "[LightGBM] [Info] [binary:BoostFromScore]: pavg=0.489232 -> initscore=-0.043078\n",
      "[LightGBM] [Info] Start training from score -0.043078\n",
      "Processing subject 16\n",
      "[LightGBM] [Info] Number of positive: 3590, number of negative: 3404\n",
      "[LightGBM] [Info] Auto-choosing col-wise multi-threading, the overhead of testing was 0.000292 seconds.\n",
      "You can set `force_col_wise=true` to remove the overhead.\n",
      "[LightGBM] [Info] Total Bins 3545\n",
      "[LightGBM] [Info] Number of data points in the train set: 6994, number of used features: 14\n",
      "[LightGBM] [Info] [binary:BoostFromScore]: pavg=0.513297 -> initscore=0.053201\n",
      "[LightGBM] [Info] Start training from score 0.053201\n",
      "Processing subject 17\n",
      "[LightGBM] [Info] Number of positive: 3669, number of negative: 3499\n",
      "[LightGBM] [Info] Auto-choosing col-wise multi-threading, the overhead of testing was 0.000272 seconds.\n",
      "You can set `force_col_wise=true` to remove the overhead.\n",
      "[LightGBM] [Info] Total Bins 3549\n",
      "[LightGBM] [Info] Number of data points in the train set: 7168, number of used features: 14\n",
      "[LightGBM] [Info] [binary:BoostFromScore]: pavg=0.511858 -> initscore=0.047442\n",
      "[LightGBM] [Info] Start training from score 0.047442\n",
      "Processing subject 18\n",
      "[LightGBM] [Info] Number of positive: 3642, number of negative: 3464\n",
      "[LightGBM] [Info] Auto-choosing col-wise multi-threading, the overhead of testing was 0.000284 seconds.\n",
      "You can set `force_col_wise=true` to remove the overhead.\n",
      "[LightGBM] [Info] Total Bins 3545\n",
      "[LightGBM] [Info] Number of data points in the train set: 7106, number of used features: 14\n",
      "[LightGBM] [Info] [binary:BoostFromScore]: pavg=0.512525 -> initscore=0.050109\n",
      "[LightGBM] [Info] Start training from score 0.050109\n",
      "Processing subject 19\n",
      "[LightGBM] [Info] Number of positive: 3395, number of negative: 3543\n",
      "[LightGBM] [Info] Auto-choosing col-wise multi-threading, the overhead of testing was 0.000284 seconds.\n",
      "You can set `force_col_wise=true` to remove the overhead.\n",
      "[LightGBM] [Info] Total Bins 3547\n",
      "[LightGBM] [Info] Number of data points in the train set: 6938, number of used features: 14\n",
      "[LightGBM] [Info] [binary:BoostFromScore]: pavg=0.489334 -> initscore=-0.042670\n",
      "[LightGBM] [Info] Start training from score -0.042670\n",
      "Processing subject 20\n",
      "[LightGBM] [Info] Number of positive: 3057, number of negative: 3574\n",
      "[LightGBM] [Info] Auto-choosing col-wise multi-threading, the overhead of testing was 0.000257 seconds.\n",
      "You can set `force_col_wise=true` to remove the overhead.\n",
      "[LightGBM] [Info] Total Bins 3542\n",
      "[LightGBM] [Info] Number of data points in the train set: 6631, number of used features: 14\n",
      "[LightGBM] [Info] [binary:BoostFromScore]: pavg=0.461016 -> initscore=-0.156251\n",
      "[LightGBM] [Info] Start training from score -0.156251\n",
      "Processing subject 21\n",
      "[LightGBM] [Info] Number of positive: 3314, number of negative: 3352\n",
      "[LightGBM] [Info] Auto-choosing col-wise multi-threading, the overhead of testing was 0.000275 seconds.\n",
      "You can set `force_col_wise=true` to remove the overhead.\n",
      "[LightGBM] [Info] Total Bins 3544\n",
      "[LightGBM] [Info] Number of data points in the train set: 6666, number of used features: 14\n",
      "[LightGBM] [Info] [binary:BoostFromScore]: pavg=0.497150 -> initscore=-0.011401\n",
      "[LightGBM] [Info] Start training from score -0.011401\n",
      "Processing subject 22\n",
      "[LightGBM] [Info] Number of positive: 3664, number of negative: 3238\n",
      "[LightGBM] [Info] Auto-choosing col-wise multi-threading, the overhead of testing was 0.000292 seconds.\n",
      "You can set `force_col_wise=true` to remove the overhead.\n",
      "[LightGBM] [Info] Total Bins 3556\n",
      "[LightGBM] [Info] Number of data points in the train set: 6902, number of used features: 14\n",
      "[LightGBM] [Info] [binary:BoostFromScore]: pavg=0.530861 -> initscore=0.123600\n",
      "[LightGBM] [Info] Start training from score 0.123600\n",
      "Processing subject 23\n",
      "[LightGBM] [Info] Number of positive: 3458, number of negative: 3670\n",
      "[LightGBM] [Info] Auto-choosing col-wise multi-threading, the overhead of testing was 0.000295 seconds.\n",
      "You can set `force_col_wise=true` to remove the overhead.\n",
      "[LightGBM] [Info] Total Bins 3547\n",
      "[LightGBM] [Info] Number of data points in the train set: 7128, number of used features: 14\n",
      "[LightGBM] [Info] [binary:BoostFromScore]: pavg=0.485129 -> initscore=-0.059501\n",
      "[LightGBM] [Info] Start training from score -0.059501\n",
      "Processing subject 24\n",
      "[LightGBM] [Info] Number of positive: 3683, number of negative: 3611\n",
      "[LightGBM] [Info] Auto-choosing col-wise multi-threading, the overhead of testing was 0.000275 seconds.\n",
      "You can set `force_col_wise=true` to remove the overhead.\n",
      "[LightGBM] [Info] Total Bins 3549\n",
      "[LightGBM] [Info] Number of data points in the train set: 7294, number of used features: 14\n",
      "[LightGBM] [Info] [binary:BoostFromScore]: pavg=0.504936 -> initscore=0.019743\n",
      "[LightGBM] [Info] Start training from score 0.019743\n",
      "Processing subject 25\n",
      "[LightGBM] [Info] Number of positive: 3658, number of negative: 3459\n",
      "[LightGBM] [Info] Auto-choosing col-wise multi-threading, the overhead of testing was 0.000296 seconds.\n",
      "You can set `force_col_wise=true` to remove the overhead.\n",
      "[LightGBM] [Info] Total Bins 3548\n",
      "[LightGBM] [Info] Number of data points in the train set: 7117, number of used features: 14\n",
      "[LightGBM] [Info] [binary:BoostFromScore]: pavg=0.513981 -> initscore=0.055937\n",
      "[LightGBM] [Info] Start training from score 0.055937\n"
     ]
    },
    {
     "data": {
      "text/plain": "    accuracy  precision  sensitivity  specificity        f1    ROCAUC  \\\n0   0.944882   0.986207     0.922581     0.979798  0.953333  0.951189   \n1   0.947115   0.978102     0.943662     0.954545  0.960573  0.949104   \n2   0.961538   0.931034     1.000000     0.920000  0.964286  0.960000   \n3   0.961538   0.950000     0.950000     0.968750  0.950000  0.959375   \n4   0.966667   0.981013     0.974843     0.941176  0.977918  0.958010   \n5   0.918699   0.895028     0.993865     0.771084  0.941860  0.882475   \n6   0.870968   0.976744     0.857143     0.923077  0.913043  0.890110   \n7   0.952790   0.933962     0.961165     0.946154  0.947368  0.953659   \n8   0.985185   0.970149     1.000000     0.971429  0.984848  0.985714   \n9   0.921296   0.859155     0.897059     0.932432  0.877698  0.914746   \n10  0.978873   0.960000     1.000000     0.957143  0.979592  0.978571   \n11  0.970845   0.964602     0.947826     0.982456  0.956140  0.965141   \n12  0.913793   0.970760     0.892473     0.951923  0.929972  0.922198   \n13  0.952862   0.937984     0.952756     0.952941  0.945312  0.952849   \n14  0.822034   0.979798     0.766798     0.960396  0.860310  0.863597   \n15  0.897129   0.854369     0.758621     0.950331  0.803653  0.854476   \n16  0.909836   0.631579     0.972973     0.898551  0.765957  0.935762   \n17  0.950980   0.929825     0.828125     0.983471  0.876033  0.905798   \n18  0.523207   1.000000     0.273312     1.000000  0.429293  0.636656   \n19  0.939821   0.937500     0.993837     0.674242  0.964847  0.834040   \n20  0.934316   0.959786     0.913265     0.957627  0.935948  0.935446   \n21  0.921569   0.520833     0.595238     0.950855  0.555556  0.773046   \n22  0.855634   0.976959     0.854839     0.861111  0.911828  0.857975   \n23  0.932203   0.894737     0.739130     0.978947  0.809524  0.859039   \n24  0.857627   0.542857     0.791667     0.870445  0.644068  0.831056   \n\n       PRAUC  \n0   0.957099  \n1   0.961459  \n2   0.931034  \n3   0.921731  \n4   0.975381  \n5   0.893602  \n6   0.950113  \n7   0.914859  \n8   0.970149  \n9   0.803120  \n10  0.960000  \n11  0.931767  \n12  0.935343  \n13  0.913872  \n14  0.917974  \n15  0.715128  \n16  0.618608  \n17  0.805959  \n18  0.750105  \n19  0.936844  \n20  0.922115  \n21  0.343353  \n22  0.961903  \n23  0.712175  \n24  0.463660  ",
      "text/html": "<div>\n<style scoped>\n    .dataframe tbody tr th:only-of-type {\n        vertical-align: middle;\n    }\n\n    .dataframe tbody tr th {\n        vertical-align: top;\n    }\n\n    .dataframe thead th {\n        text-align: right;\n    }\n</style>\n<table border=\"1\" class=\"dataframe\">\n  <thead>\n    <tr style=\"text-align: right;\">\n      <th></th>\n      <th>accuracy</th>\n      <th>precision</th>\n      <th>sensitivity</th>\n      <th>specificity</th>\n      <th>f1</th>\n      <th>ROCAUC</th>\n      <th>PRAUC</th>\n    </tr>\n  </thead>\n  <tbody>\n    <tr>\n      <th>0</th>\n      <td>0.944882</td>\n      <td>0.986207</td>\n      <td>0.922581</td>\n      <td>0.979798</td>\n      <td>0.953333</td>\n      <td>0.951189</td>\n      <td>0.957099</td>\n    </tr>\n    <tr>\n      <th>1</th>\n      <td>0.947115</td>\n      <td>0.978102</td>\n      <td>0.943662</td>\n      <td>0.954545</td>\n      <td>0.960573</td>\n      <td>0.949104</td>\n      <td>0.961459</td>\n    </tr>\n    <tr>\n      <th>2</th>\n      <td>0.961538</td>\n      <td>0.931034</td>\n      <td>1.000000</td>\n      <td>0.920000</td>\n      <td>0.964286</td>\n      <td>0.960000</td>\n      <td>0.931034</td>\n    </tr>\n    <tr>\n      <th>3</th>\n      <td>0.961538</td>\n      <td>0.950000</td>\n      <td>0.950000</td>\n      <td>0.968750</td>\n      <td>0.950000</td>\n      <td>0.959375</td>\n      <td>0.921731</td>\n    </tr>\n    <tr>\n      <th>4</th>\n      <td>0.966667</td>\n      <td>0.981013</td>\n      <td>0.974843</td>\n      <td>0.941176</td>\n      <td>0.977918</td>\n      <td>0.958010</td>\n      <td>0.975381</td>\n    </tr>\n    <tr>\n      <th>5</th>\n      <td>0.918699</td>\n      <td>0.895028</td>\n      <td>0.993865</td>\n      <td>0.771084</td>\n      <td>0.941860</td>\n      <td>0.882475</td>\n      <td>0.893602</td>\n    </tr>\n    <tr>\n      <th>6</th>\n      <td>0.870968</td>\n      <td>0.976744</td>\n      <td>0.857143</td>\n      <td>0.923077</td>\n      <td>0.913043</td>\n      <td>0.890110</td>\n      <td>0.950113</td>\n    </tr>\n    <tr>\n      <th>7</th>\n      <td>0.952790</td>\n      <td>0.933962</td>\n      <td>0.961165</td>\n      <td>0.946154</td>\n      <td>0.947368</td>\n      <td>0.953659</td>\n      <td>0.914859</td>\n    </tr>\n    <tr>\n      <th>8</th>\n      <td>0.985185</td>\n      <td>0.970149</td>\n      <td>1.000000</td>\n      <td>0.971429</td>\n      <td>0.984848</td>\n      <td>0.985714</td>\n      <td>0.970149</td>\n    </tr>\n    <tr>\n      <th>9</th>\n      <td>0.921296</td>\n      <td>0.859155</td>\n      <td>0.897059</td>\n      <td>0.932432</td>\n      <td>0.877698</td>\n      <td>0.914746</td>\n      <td>0.803120</td>\n    </tr>\n    <tr>\n      <th>10</th>\n      <td>0.978873</td>\n      <td>0.960000</td>\n      <td>1.000000</td>\n      <td>0.957143</td>\n      <td>0.979592</td>\n      <td>0.978571</td>\n      <td>0.960000</td>\n    </tr>\n    <tr>\n      <th>11</th>\n      <td>0.970845</td>\n      <td>0.964602</td>\n      <td>0.947826</td>\n      <td>0.982456</td>\n      <td>0.956140</td>\n      <td>0.965141</td>\n      <td>0.931767</td>\n    </tr>\n    <tr>\n      <th>12</th>\n      <td>0.913793</td>\n      <td>0.970760</td>\n      <td>0.892473</td>\n      <td>0.951923</td>\n      <td>0.929972</td>\n      <td>0.922198</td>\n      <td>0.935343</td>\n    </tr>\n    <tr>\n      <th>13</th>\n      <td>0.952862</td>\n      <td>0.937984</td>\n      <td>0.952756</td>\n      <td>0.952941</td>\n      <td>0.945312</td>\n      <td>0.952849</td>\n      <td>0.913872</td>\n    </tr>\n    <tr>\n      <th>14</th>\n      <td>0.822034</td>\n      <td>0.979798</td>\n      <td>0.766798</td>\n      <td>0.960396</td>\n      <td>0.860310</td>\n      <td>0.863597</td>\n      <td>0.917974</td>\n    </tr>\n    <tr>\n      <th>15</th>\n      <td>0.897129</td>\n      <td>0.854369</td>\n      <td>0.758621</td>\n      <td>0.950331</td>\n      <td>0.803653</td>\n      <td>0.854476</td>\n      <td>0.715128</td>\n    </tr>\n    <tr>\n      <th>16</th>\n      <td>0.909836</td>\n      <td>0.631579</td>\n      <td>0.972973</td>\n      <td>0.898551</td>\n      <td>0.765957</td>\n      <td>0.935762</td>\n      <td>0.618608</td>\n    </tr>\n    <tr>\n      <th>17</th>\n      <td>0.950980</td>\n      <td>0.929825</td>\n      <td>0.828125</td>\n      <td>0.983471</td>\n      <td>0.876033</td>\n      <td>0.905798</td>\n      <td>0.805959</td>\n    </tr>\n    <tr>\n      <th>18</th>\n      <td>0.523207</td>\n      <td>1.000000</td>\n      <td>0.273312</td>\n      <td>1.000000</td>\n      <td>0.429293</td>\n      <td>0.636656</td>\n      <td>0.750105</td>\n    </tr>\n    <tr>\n      <th>19</th>\n      <td>0.939821</td>\n      <td>0.937500</td>\n      <td>0.993837</td>\n      <td>0.674242</td>\n      <td>0.964847</td>\n      <td>0.834040</td>\n      <td>0.936844</td>\n    </tr>\n    <tr>\n      <th>20</th>\n      <td>0.934316</td>\n      <td>0.959786</td>\n      <td>0.913265</td>\n      <td>0.957627</td>\n      <td>0.935948</td>\n      <td>0.935446</td>\n      <td>0.922115</td>\n    </tr>\n    <tr>\n      <th>21</th>\n      <td>0.921569</td>\n      <td>0.520833</td>\n      <td>0.595238</td>\n      <td>0.950855</td>\n      <td>0.555556</td>\n      <td>0.773046</td>\n      <td>0.343353</td>\n    </tr>\n    <tr>\n      <th>22</th>\n      <td>0.855634</td>\n      <td>0.976959</td>\n      <td>0.854839</td>\n      <td>0.861111</td>\n      <td>0.911828</td>\n      <td>0.857975</td>\n      <td>0.961903</td>\n    </tr>\n    <tr>\n      <th>23</th>\n      <td>0.932203</td>\n      <td>0.894737</td>\n      <td>0.739130</td>\n      <td>0.978947</td>\n      <td>0.809524</td>\n      <td>0.859039</td>\n      <td>0.712175</td>\n    </tr>\n    <tr>\n      <th>24</th>\n      <td>0.857627</td>\n      <td>0.542857</td>\n      <td>0.791667</td>\n      <td>0.870445</td>\n      <td>0.644068</td>\n      <td>0.831056</td>\n      <td>0.463660</td>\n    </tr>\n  </tbody>\n</table>\n</div>"
     },
     "execution_count": 11,
     "metadata": {},
     "output_type": "execute_result"
    }
   ],
   "source": [
    "# leave one subject out cross validation\n",
    "loo_metrics = {'accuracy': [], 'precision': [], 'sensitivity': [], 'specificity': [],'f1': [], 'ROCAUC': [], 'PRAUC': []}\n",
    "for subj in range(1, 26):\n",
    "    id = str(subj) if subj >= 10 else f'0{subj}'\n",
    "    print(f'Processing subject {subj}')\n",
    "    model = LGBMClassifier()\n",
    "    x_train_fold = x_feat[x['subj'] != id]\n",
    "    x_test_fold = x_feat[x['subj'] == id]\n",
    "    y_train_fold = y[x['subj'] != id]\n",
    "    y_test_fold = y[x['subj'] == id]\n",
    "    model.fit(x_train_fold, y_train_fold)\n",
    "    y_pred = model.predict(x_test_fold)\n",
    "    y_true = y_test_fold\n",
    "    # save scores in dict\n",
    "    loo_metrics['accuracy'].append(accuracy_score(y_true, y_pred))\n",
    "    loo_metrics['precision'].append(precision_score(y_true, y_pred))\n",
    "    loo_metrics['sensitivity'].append(recall_score(y_true, y_pred))\n",
    "    loo_metrics['f1'].append(f1_score(y_true, y_pred))\n",
    "    tn, fp, fn, tp = confusion_matrix(y_true, y_pred).ravel()\n",
    "    loo_metrics['specificity'].append(tn / (tn + fp))\n",
    "    loo_metrics['ROCAUC'].append(roc_auc_score(y_true, y_pred))\n",
    "    loo_metrics['PRAUC'].append(average_precision_score(y_true, y_pred))\n",
    "    \n",
    "# print results as df\n",
    "loo_results = pd.DataFrame(loo_metrics)\n",
    "loo_results"
   ],
   "metadata": {
    "collapsed": false,
    "ExecuteTime": {
     "end_time": "2024-09-16T15:51:24.123030Z",
     "start_time": "2024-09-16T15:51:22.044727Z"
    }
   },
   "id": "b6f971702549ecf1",
   "execution_count": 11
  },
  {
   "cell_type": "code",
   "outputs": [
    {
     "data": {
      "text/plain": "accuracy       0.911656\nprecision      0.900919\nsensitivity    0.871247\nspecificity    0.929555\nf1             0.873558\nROCAUC         0.900401\nPRAUC          0.846694\ndtype: float64"
     },
     "execution_count": 9,
     "metadata": {},
     "output_type": "execute_result"
    }
   ],
   "source": [
    "# get the average of the metrics\n",
    "loo_results.mean()"
   ],
   "metadata": {
    "collapsed": false,
    "ExecuteTime": {
     "end_time": "2024-09-05T14:33:01.161921Z",
     "start_time": "2024-09-05T14:33:01.157178Z"
    }
   },
   "id": "ae87252e2f15cb8c",
   "execution_count": 9
  },
  {
   "cell_type": "markdown",
   "source": [
    "# Test/usage example on unbalanced data: train without one patient and visualize predictions\n"
   ],
   "metadata": {
    "collapsed": false
   },
   "id": "69cec1d093adbd15"
  },
  {
   "cell_type": "code",
   "outputs": [],
   "source": [
    "out_subject = '01'\n",
    "detected_chan = 'RA1'\n",
    "plot_chans = ['RMH1', 'RMH2', 'RA1']\n",
    "confidence_threshold = 0.8\n",
    "\n",
    "model = LGBMClassifier()\n",
    "x_train_fold, y_train_fold = x_feat[x['subj'] != out_subject], y[x['subj'] != out_subject]\n",
    "model.fit(x_train_fold, y_train_fold)\n",
    "\n",
    "# get the features of the continuous data (before the undersampling)\n",
    "x_for_example, y_for_example = x_all, np.array(y_all)\n",
    "x_feat_for_example = x_for_example[feat_to_choose]\n",
    "x_test = x_feat_for_example[(x_for_example['subj'] == out_subject) & (x_for_example['chan_name'] == detected_chan)]\n",
    "y_test = y_for_example[(x_for_example['subj'] == out_subject) & (x_for_example['chan_name'] == detected_chan)]\n",
    "\n",
    "# apply the model and plot it on the raw data\n",
    "y_pred_prob = model.predict_proba(x_test)\n",
    "y_model = [p > confidence_threshold for p in y_pred_prob.T[1]]\n",
    "onsets_index = x_test[np.array(y_model)== 1].index\n",
    "onsets = [int(x) / 4 for x in onsets_index]\n",
    "real_index = x_test[y_test == 1].index\n",
    "real_onsets = [int(x) / 4 for x in real_index]\n",
    "both = [x for x in real_onsets if x in onsets]\n",
    "annot = mne.Annotations(onsets, [0.25] * len(onsets), ['pred'] * len(onsets)).append(real_onsets, [0.25] * len(real_onsets), ['true'] * len(real_onsets)).append(both, [0.25] * len(both), ['both'] * len(both))\n",
    "raw = read_raw_bids(BIDSPath(subject=out_subject, task='sleep', root='ieeg_ieds_bids', datatype='ieeg'))\n",
    "raw.set_annotations(annot)\n",
    "raw.copy().pick(plot_chans).plot(duration=30, scalings='auto')"
   ],
   "metadata": {
    "collapsed": false
   },
   "id": "c4e16941a14869f5",
   "execution_count": null
  }
 ],
 "metadata": {
  "kernelspec": {
   "display_name": "Python 3",
   "language": "python",
   "name": "python3"
  },
  "language_info": {
   "codemirror_mode": {
    "name": "ipython",
    "version": 2
   },
   "file_extension": ".py",
   "mimetype": "text/x-python",
   "name": "python",
   "nbconvert_exporter": "python",
   "pygments_lexer": "ipython2",
   "version": "2.7.6"
  }
 },
 "nbformat": 4,
 "nbformat_minor": 5
}
